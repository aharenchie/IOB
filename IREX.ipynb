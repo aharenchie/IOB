{
 "cells": [
  {
   "cell_type": "code",
   "execution_count": 1,
   "metadata": {
    "collapsed": false
   },
   "outputs": [],
   "source": [
    "from itertools import chain\n",
    "import pycrfsuite\n",
    "import sklearn\n",
    "from sklearn.metrics import classification_report\n",
    "from sklearn.preprocessing import LabelBinarizer"
   ]
  },
  {
   "cell_type": "code",
   "execution_count": 2,
   "metadata": {
    "collapsed": true
   },
   "outputs": [],
   "source": [
    "# コーパス読み込み\n",
    "import codecs\n",
    "class CorpusReader(object):\n",
    "    \n",
    "    def __init__(self, path):\n",
    "        with codecs.open(path, encoding='utf-8') as f:\n",
    "            sent = []\n",
    "            sents = []\n",
    "            for line in f:\n",
    "                if line == '\\n':\n",
    "                    sents.append(sent)\n",
    "                    sent = []\n",
    "                    continue\n",
    "                morph_info = line.strip().split('\\t')\n",
    "                sent.append(morph_info) # 形態素の保存 \n",
    "        train_num = int(len(sents) * 0.9) # 9割を学習に、1割をテストに\n",
    "        self.__train_sents = sents[:train_num]\n",
    "        self.__test_sents = sents[train_num:]\n",
    "        \n",
    "    def iob_sents(self, name):\n",
    "        if name == 'train':\n",
    "            return self.__train_sents\n",
    "        elif name == 'test':\n",
    "            return self.__test_sents\n",
    "        else:\n",
    "            return None\n",
    "    "
   ]
  },
  {
   "cell_type": "code",
   "execution_count": 3,
   "metadata": {
    "collapsed": false
   },
   "outputs": [],
   "source": [
    "# 文字種取得\n",
    "def is_hiragana(ch):\n",
    "    return 0x3040 <= ord(ch) <= 0x309F \n",
    "    # ひらがな：True or False\n",
    "\n",
    "def is_katakana(ch):\n",
    "    return 0x30A0 <= ord(ch) <= 0x30FF\n",
    "    # カタカタ：True or False\n",
    "\n",
    "def get_character_type(ch): # 文字種を取得する\n",
    "    if ch.isspace(): # 空白の場合\n",
    "        return 'ZSPACE'\n",
    "    elif ch.isdigit(): # 数字の場合\n",
    "        return 'ZDIGIT'\n",
    "    elif ch.islower(): # 小文字の場合\n",
    "        return 'ZLLET'\n",
    "    elif ch.isupper(): # 大文字の場合\n",
    "        return 'ZULET'\n",
    "    elif is_hiragana(ch): # ひらがなの場合\n",
    "        return 'HIRAG'\n",
    "    elif is_katakana(ch): # カタカナの場合\n",
    "        return 'KATAK'\n",
    "    else: # それ以外\n",
    "        return 'OTHER'\n",
    "\n",
    "def get_character_types(string): # 文字列の文字種を変換する\n",
    "    character_types = map(get_character_type, string)\n",
    "    character_types_str = '-'.join(sorted(set(character_types)))\n",
    "\n",
    "    return character_types_str"
   ]
  },
  {
   "cell_type": "code",
   "execution_count": 4,
   "metadata": {
    "collapsed": true
   },
   "outputs": [],
   "source": [
    "# 品詞細分類の取得\n",
    "def extract_pos_with_subtype(morph):\n",
    "    idx = morph.index('*')\n",
    "    return '-'.join(morph[1:idx])"
   ]
  },
  {
   "cell_type": "code",
   "execution_count": 5,
   "metadata": {
    "collapsed": false
   },
   "outputs": [],
   "source": [
    "# 単語を特徴量に変換する\n",
    "def word2features(sent, i):\n",
    "    word = sent[i][0]\n",
    "    chtype = get_character_types(sent[i][0]) # 文字種取得\n",
    "    postag = extract_pos_with_subtype(sent[i]) # 品詞分類取得\n",
    "    \n",
    "    # 該当単語の前後2文字の単語の特徴を用意\n",
    "    features = [ \n",
    "        'bias',\n",
    "        'word=' + word,\n",
    "        'type=' + chtype,\n",
    "        'postag=' + postag,\n",
    "    ]\n",
    "    \n",
    "    if i >= 2: # 現在の単語の前に、2単語以上あるとき\n",
    "        word2 = sent[i-2][0]\n",
    "        chtype2 = get_character_types(sent[i-2][0])\n",
    "        postag2 = extract_pos_with_subtype(sent[i-2])\n",
    "        iobtag2 = sent[i-2][-1]\n",
    "        features.extend([\n",
    "            '-2:word=' + word2,\n",
    "            '-2:type=' + chtype2,\n",
    "            '-2:postag=' + postag2,\n",
    "        ])\n",
    "    else: # それ以外は、BOS\n",
    "        features.append('BOS')\n",
    "\n",
    "    if i >= 1: # 現在の単語の前に、1単語以上あるとき\n",
    "        word1 = sent[i-1][0]\n",
    "        chtype1 = get_character_types(sent[i-1][0])\n",
    "        postag1 = extract_pos_with_subtype(sent[i-1])\n",
    "        iobtag1 = sent[i-1][-1]\n",
    "        features.extend([\n",
    "            '-1:word=' + word1,\n",
    "            '-1:type=' + chtype1,\n",
    "            '-1:postag=' + postag1,\n",
    "        ])\n",
    "    else: # それ以外は、BOS\n",
    "        features.append('BOS')\n",
    "\n",
    "    if i < len(sent)-1: # 現在の単語の後ろに、1単語以上あるとき\n",
    "        word1 = sent[i+1][0]\n",
    "        chtype1 = get_character_types(sent[i+1][0])\n",
    "        postag1 = extract_pos_with_subtype(sent[i+1])\n",
    "        features.extend([\n",
    "            '+1:word=' + word1,\n",
    "            '+1:type=' + chtype1,\n",
    "            '+1:postag=' + postag1,\n",
    "        ])\n",
    "    else: # それ以外は、EOS\n",
    "        features.append('EOS')\n",
    "\n",
    "    if i < len(sent)-2: # 現在の単語の後ろに、2単語以上あるとき\n",
    "        word2 = sent[i+2][0]\n",
    "        chtype2 = get_character_types(sent[i+2][0])\n",
    "        postag2 = extract_pos_with_subtype(sent[i+2])\n",
    "        features.extend([\n",
    "            '+2:word=' + word2,\n",
    "            '+2:type=' + chtype2,\n",
    "            '+2:postag=' + postag2,\n",
    "        ])\n",
    "    else: # それ以外は、EOS\n",
    "        features.append('EOS')\n",
    "\n",
    "    return features    \n",
    "\n",
    "def sent2features(sent): # 情報系列から特徴を取得\n",
    "    # 単語ごとに特徴変換していく\n",
    "    return [word2features(sent, i) for i in range(len(sent))]\n",
    "\n",
    "def sent2labels(sent): # 情報系列からラベル[B、I、O]を取得\n",
    "    return [morph[-1] for morph in sent]\n",
    "\n",
    "def sent2tokens(sent): # 情報系列から単語原文を取得\n",
    "    return [morph[0] for morph in sent]\n"
   ]
  },
  {
   "cell_type": "code",
   "execution_count": 6,
   "metadata": {
    "collapsed": false
   },
   "outputs": [],
   "source": [
    "# ラベル評価\n",
    "def bio_classification_report(y_true, y_pred):\n",
    "    lb = LabelBinarizer()\n",
    "    \n",
    "    # 正解ラベルの二値化の保存 (1文字ずつのラベルを二値化に変換)\n",
    "    y_true_combined = lb.fit_transform(list(chain.from_iterable(y_true)))\n",
    "    # 予測結果の二値化の保存 (1文字ずつのラベルを二値化に変換)\n",
    "    y_pred_combined = lb.transform(list(chain.from_iterable(y_pred)))  \n",
    "\n",
    "    tagset = set(lb.classes_) - {'O'} # O以外のタグセットの保存\n",
    "    # B-NAME、I-NAME、B-THEME..等の順番に並び替える\n",
    "    tagset = sorted(tagset, key=lambda tag: tag.split('-', 1)[::-1])\n",
    "    # タグのクラスのid化？\n",
    "    class_indices = {cls: idx for idx, cls in enumerate(lb.classes_)}\n",
    "    \n",
    "    # 正解ラベルと予想ラベルを引数として、評価表の作成をする\n",
    "    return classification_report(\n",
    "        y_true_combined,\n",
    "        y_pred_combined,\n",
    "        labels = [class_indices[cls] for cls in tagset],\n",
    "        target_names = tagset,\n",
    "    )\n"
   ]
  },
  {
   "cell_type": "code",
   "execution_count": 7,
   "metadata": {
    "collapsed": false
   },
   "outputs": [],
   "source": [
    "# main \n",
    "c = CorpusReader('corpus.txt') # ファイル指定\n",
    "train_sents = c.iob_sents('train') # データの読み込み\n",
    "test_sents = c.iob_sents('test') # データの読み込み\n",
    "\n",
    "X_train = [sent2features(s) for s in train_sents] # 学習データの特徴量\n",
    "y_train = [sent2labels(s) for s in train_sents] # 学習データのラベル\n",
    "\n",
    "X_test = [sent2features(s) for s in test_sents] # テストデータの特徴量\n",
    "y_test = [sent2labels(s) for s in test_sents] # テストデータのラベル\n"
   ]
  },
  {
   "cell_type": "code",
   "execution_count": 8,
   "metadata": {
    "collapsed": true
   },
   "outputs": [],
   "source": [
    "# 学習\n",
    "trainer = pycrfsuite.Trainer(verbose=False) # モデルの定義\n",
    "\n",
    "for xseq, yseq in zip(X_train, y_train):\n",
    "    trainer.append(xseq, yseq) # 学習データの追加\n",
    "    \n",
    "trainer.set_params({\n",
    "    'c1': 1.0,   # coefficient for L1 penalty\n",
    "    'c2': 1e-3,  # coefficient for L2 penalty\n",
    "    'max_iterations': 50,  # stop earlier\n",
    "\n",
    "    # include transitions that are possible, but not observed\n",
    "    'feature.possible_transitions': True\n",
    "}) # パラメータの設定\n",
    "\n",
    "trainer.train('model.crfsuite') # モデル学習\n"
   ]
  },
  {
   "cell_type": "code",
   "execution_count": 9,
   "metadata": {
    "collapsed": false,
    "scrolled": false
   },
   "outputs": [
    {
     "name": "stdout",
     "output_type": "stream",
     "text": [
      "懇談 会 終了 後 の 保護 者 から の アンケート で は 、 「 親子 で の 話し合い が まだまだ 足り て い ない 事 に 気づき まし た 」 「 内定 学生 の 本音 の 説明 に は 説得 力 が あっ た 」 等 の 感想 が 寄せ られ まし た 。\n",
      "Predicted: O O O O O O O O O O O O O O B-REMARK I-REMARK I-REMARK I-REMARK I-REMARK I-REMARK I-REMARK I-REMARK I-REMARK I-REMARK I-REMARK I-REMARK I-REMARK I-REMARK I-REMARK O O B-REMARK I-REMARK I-REMARK I-REMARK I-REMARK I-REMARK I-REMARK I-REMARK I-REMARK I-REMARK I-REMARK I-REMARK I-REMARK I-REMARK I-REMARK I-REMARK I-REMARK O O O O O O\n",
      "Correct:   B-TIME I-TIME I-TIME I-TIME O B-OTHER I-OTHER I-OTHER I-OTHER I-OTHER O O O O B-REMARK I-REMARK I-REMARK I-REMARK I-REMARK I-REMARK I-REMARK I-REMARK I-REMARK I-REMARK I-REMARK I-REMARK I-REMARK I-REMARK I-REMARK O O B-REMARK I-REMARK I-REMARK I-REMARK I-REMARK I-REMARK I-REMARK I-REMARK I-REMARK I-REMARK I-REMARK I-REMARK I-REMARK O O O O O O O O O O\n",
      "               precision    recall  f1-score   support\n",
      "\n",
      "    B-CONTENT       0.00      0.00      0.00         5\n",
      "    I-CONTENT       0.17      0.46      0.25        84\n",
      "B-DESCRIPTION       0.20      0.17      0.18         6\n",
      "I-DESCRIPTION       0.54      0.87      0.67       134\n",
      " B-EVENT-NAME       0.67      0.50      0.57         8\n",
      " I-EVENT-NAME       0.65      0.37      0.47        46\n",
      "   B-LOCATION       1.00      1.00      1.00         2\n",
      "   I-LOCATION       1.00      1.00      1.00         8\n",
      "      B-OTHER       0.33      0.12      0.18         8\n",
      "      I-OTHER       0.39      0.18      0.25        60\n",
      "     B-PERSON       0.38      0.19      0.25        16\n",
      "     I-PERSON       0.68      0.57      0.62       111\n",
      "     B-REMARK       1.00      0.40      0.57         5\n",
      "     I-REMARK       0.54      0.28      0.37        94\n",
      "    B-SPEAKER       0.00      0.00      0.00         1\n",
      "    I-SPEAKER       0.00      0.00      0.00        12\n",
      "      B-STATE       0.00      0.00      0.00         1\n",
      "      I-STATE       0.00      0.00      0.00         5\n",
      "      B-THEME       0.00      0.00      0.00         5\n",
      "      I-THEME       0.00      0.00      0.00        48\n",
      "       B-TIME       0.83      0.45      0.59        11\n",
      "       I-TIME       0.86      0.67      0.75        36\n",
      "\n",
      "  avg / total       0.48      0.46      0.44       706\n",
      "\n"
     ]
    },
    {
     "name": "stderr",
     "output_type": "stream",
     "text": [
      "/Users/aharenchie/.pyenv/versions/anaconda3-4.1.1/lib/python3.5/site-packages/sklearn/metrics/classification.py:1074: UndefinedMetricWarning: Precision and F-score are ill-defined and being set to 0.0 in labels with no predicted samples.\n",
      "  'precision', 'predicted', average, warn_for)\n"
     ]
    }
   ],
   "source": [
    "# ラベル予測・評価\n",
    "\n",
    "tagger = pycrfsuite.Tagger() #  pycrfsuiteのモデルを用意\n",
    "tagger.open('model.crfsuite') # モデルを開く\n",
    "tagger.info()\n",
    "\n",
    "# テストの用意\n",
    "example_sent = test_sents[0]\n",
    "print(' '.join(sent2tokens(example_sent)))\n",
    "\n",
    "print(\"Predicted:\", ' '.join(tagger.tag(sent2features(example_sent))))\n",
    "print(\"Correct:  \", ' '.join(sent2labels(example_sent)))\n",
    "\n",
    "\n",
    "y_pred = [tagger.tag(xseq) for xseq in X_test]\n",
    "print(bio_classification_report(y_test, y_pred))"
   ]
  },
  {
   "cell_type": "code",
   "execution_count": null,
   "metadata": {
    "collapsed": true
   },
   "outputs": [],
   "source": []
  },
  {
   "cell_type": "code",
   "execution_count": null,
   "metadata": {
    "collapsed": true
   },
   "outputs": [],
   "source": []
  }
 ],
 "metadata": {
  "anaconda-cloud": {},
  "kernelspec": {
   "display_name": "Python [Root]",
   "language": "python",
   "name": "Python [Root]"
  },
  "language_info": {
   "codemirror_mode": {
    "name": "ipython",
    "version": 3
   },
   "file_extension": ".py",
   "mimetype": "text/x-python",
   "name": "python",
   "nbconvert_exporter": "python",
   "pygments_lexer": "ipython3",
   "version": "3.5.2"
  }
 },
 "nbformat": 4,
 "nbformat_minor": 0
}
